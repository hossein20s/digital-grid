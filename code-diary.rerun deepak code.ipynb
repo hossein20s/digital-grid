{
 "cells": [
  {
   "cell_type": "markdown",
   "source": [
    "***\n",
    "# Comparing performance of AWS, Colab and local runs\n",
    "\n",
    "create a docker "
   ],
   "metadata": {}
  },
  {
   "cell_type": "code",
   "execution_count": 4,
   "source": [
    "# for Docker Desktop\n",
    "!kubectl apply -f kubernetes/data-pvc.yaml\n",
    "# !kubectl apply -f kubernetes/fix-volume.yaml\n",
    "# !kubectl delete -f kubernetes/fix-volume.yaml\n",
    "!kubectl create secret docker-registry us-gcr-json-key --docker-server=us.gcr.io --docker-username=_json_key --docker-password=\"$(cat ~/gcr-key-file.json)\" --docker-email=hossein.akhlaghpour@auto-grid.com\n",
    "!kubectl apply -f kubernetes/digital-grid.yaml\n",
    "!kubectl apply -f kubernetes/ingress.yaml"
   ],
   "outputs": [
    {
     "output_type": "stream",
     "name": "stdout",
     "text": [
      "error: the path \"kubernetes/data-pvc.yaml\" does not exist\n",
      "error: failed to create secret secrets \"us-gcr-json-key\" already exists\n",
      "deployment.apps/digital-grid unchanged\n",
      "service/digital-grid unchanged\n",
      "^C\n"
     ]
    }
   ],
   "metadata": {}
  },
  {
   "cell_type": "code",
   "execution_count": 3,
   "source": [
    "!kubectl get pvc"
   ],
   "outputs": [
    {
     "output_type": "stream",
     "name": "stdout",
     "text": [
      "NAME   STATUS    VOLUME   CAPACITY   ACCESS MODES   STORAGECLASS   AGE\n",
      "data   Pending                                      ebs-sc         14m\n"
     ]
    }
   ],
   "metadata": {}
  },
  {
   "cell_type": "code",
   "execution_count": 3,
   "source": [
    "!kubectl create secret docker-registry us-gcr-json-key --docker-server=us.gcr.io --docker-username=_json_key --docker-password=\"$(cat ~/gcr-key-file.json)\" --docker-email=hossein.akhlaghpour@auto-grid.com"
   ],
   "outputs": [
    {
     "output_type": "stream",
     "name": "stdout",
     "text": [
      "secret/us-gcr-json-key created\n"
     ]
    }
   ],
   "metadata": {}
  },
  {
   "cell_type": "markdown",
   "source": [
    "***\n",
    "# AWS deployment"
   ],
   "metadata": {}
  },
  {
   "cell_type": "code",
   "execution_count": 5,
   "source": [
    "# for AWS\n",
    "!kubectl apply -f kubernetes/digital-grid.yaml\n",
    "# !kubectl apply -f kubernetes/data-pvc-gp2.yaml\n",
    "!kubectl apply -f kubernetes/ingress.yaml\n"
   ],
   "outputs": [
    {
     "output_type": "stream",
     "name": "stdout",
     "text": [
      "deployment.apps/digital-grid configured\n",
      "service/digital-grid configured\n",
      "storageclass.storage.k8s.io/ebs-sc unchanged\n",
      "persistentvolumeclaim/data unchanged\n",
      "Error from server (Invalid): error when creating \"kubernetes/data-pvc-gp2.yaml\": PersistentVolume \"data\" is invalid: [spec.accessModes: Required value, spec.capacity: Required value, spec.capacity: Unsupported value: core.ResourceList(nil): supported values: \"storage\", spec: Required value: must specify a volume type]\n",
      "Error from server (Invalid): error when creating \"kubernetes/data-pvc-gp2.yaml\": PersistentVolume \"data\" is invalid: spec: Required value: must specify a volume type\n",
      "ingress.networking.k8s.io/digital-grid-ingress unchanged\n"
     ]
    }
   ],
   "metadata": {}
  },
  {
   "cell_type": "code",
   "execution_count": 4,
   "source": [
    "!kubectl get svc"
   ],
   "outputs": [
    {
     "output_type": "stream",
     "name": "stdout",
     "text": [
      "NAME           TYPE           CLUSTER-IP      EXTERNAL-IP   PORT(S)                                        AGE\n",
      "digital-grid   LoadBalancer   172.20.78.198   <pending>     8888:31709/TCP,9999:30481/TCP,4040:30822/TCP   112m\n",
      "kubernetes     ClusterIP      172.20.0.1      <none>        443/TCP                                        152m\n"
     ]
    }
   ],
   "metadata": {}
  },
  {
   "cell_type": "code",
   "execution_count": 8,
   "source": [
    "!kubectl get ingress"
   ],
   "outputs": [
    {
     "output_type": "stream",
     "name": "stdout",
     "text": [
      "NAME                   CLASS         HOSTS                ADDRESS   PORTS   AGE\n",
      "digital-grid-ingress   external-lb   *.digital-grid.dev             80      176m\n"
     ]
    }
   ],
   "metadata": {}
  }
 ],
 "metadata": {
  "orig_nbformat": 4,
  "language_info": {
   "name": "python",
   "version": "3.6.10",
   "mimetype": "text/x-python",
   "codemirror_mode": {
    "name": "ipython",
    "version": 3
   },
   "pygments_lexer": "ipython3",
   "nbconvert_exporter": "python",
   "file_extension": ".py"
  },
  "kernelspec": {
   "name": "python3",
   "display_name": "Python 3.6.10 64-bit ('feeder_lateral': conda)"
  },
  "interpreter": {
   "hash": "78d1f5519ec7ba323ea10597e446ee52ef5786b044825191b44df4528ad0d138"
  }
 },
 "nbformat": 4,
 "nbformat_minor": 2
}